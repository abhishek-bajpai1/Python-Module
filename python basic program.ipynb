{
 "cells": [
  {
   "cell_type": "code",
   "execution_count": null,
   "id": "85f939ed-95e2-490b-b590-6951f5860d3b",
   "metadata": {},
   "outputs": [],
   "source": [
    "Write a python code that takes two numbers as input and performs addition, subtraction,\n",
    "multiplication, and division. Print the results"
   ]
  },
  {
   "cell_type": "code",
   "execution_count": 25,
   "id": "65701864-9242-487e-8b99-fefadda0c3d4",
   "metadata": {},
   "outputs": [
    {
     "name": "stdout",
     "output_type": "stream",
     "text": [
      "16\n",
      "10\n",
      "0.25\n",
      "-6\n"
     ]
    }
   ],
   "source": [
    "a = 2\n",
    "b = 8\n",
    "c = a * b\n",
    "d = a + b\n",
    "e = a / b\n",
    "f = a - b\n",
    "print(c)\n",
    "print(d)\n",
    "print(e)\n",
    "print(f)\n"
   ]
  },
  {
   "cell_type": "code",
   "execution_count": null,
   "id": "bee6272b-9b0e-47af-b55b-61a1d7621ef8",
   "metadata": {},
   "outputs": [],
   "source": [
    "Write a python code that takes two numbers and returns the larger of the two without using functions."
   ]
  },
  {
   "cell_type": "code",
   "execution_count": 15,
   "id": "75c0424f-d9cc-450c-afe7-3a2c0223620d",
   "metadata": {},
   "outputs": [
    {
     "name": "stdout",
     "output_type": "stream",
     "text": [
      "['hii', 'hello', 1, 2]\n"
     ]
    }
   ],
   "source": [
    "str=[\"hii\", \"hello\"]\n",
    "\n",
    "str2=[1,2]\n",
    "\n",
    "str3 = str + str2\n",
    "print(str3)"
   ]
  },
  {
   "cell_type": "code",
   "execution_count": null,
   "id": "ec8f5eb6-c8af-4b4e-b26c-ff6d848a3585",
   "metadata": {},
   "outputs": [],
   "source": []
  },
  {
   "cell_type": "code",
   "execution_count": 17,
   "id": "bc74a2e3-24d0-4c12-b87f-58d33669f655",
   "metadata": {},
   "outputs": [
    {
     "name": "stdout",
     "output_type": "stream",
     "text": [
      "elemnt in row 0, col 0: 1\n",
      "elemnt in row 0, col 0: 2\n",
      "elemnt in row 0, col 0: 3\n",
      "[1, 2, 3]\n",
      "[4, 5, 6]\n",
      "[7, 8, 9]\n"
     ]
    }
   ],
   "source": [
    "matrix = [[1, 2, 3],\n",
    "          [4, 5, 6],\n",
    "           [7,8,9]\n",
    "]\n",
    "\n",
    "print(\"elemnt in row 0, col 0:\" , matrix[0][0])\n",
    "print(\"elemnt in row 0, col 0:\" , matrix[0][1])\n",
    "print(\"elemnt in row 0, col 0:\" , matrix[0][2])\n",
    "\n",
    "for row in matrix:\n",
    "    print(row)"
   ]
  },
  {
   "cell_type": "code",
   "execution_count": 27,
   "id": "ce20588f-b9a7-4aa2-9296-9da44881aa49",
   "metadata": {},
   "outputs": [
    {
     "name": "stdout",
     "output_type": "stream",
     "text": [
      "[1, 2, 3, 4, 5, 6, 7, 8, 9, 10, 100, 55, 20, 60]\n"
     ]
    }
   ],
   "source": [
    "str=[1,2,3,4,5,6,7,8,9,10]\n",
    "str2=[55,20,60]\n",
    "str.append(100)\n",
    "str.extend(str2)\n",
    "print(str)"
   ]
  },
  {
   "cell_type": "code",
   "execution_count": null,
   "id": "af425e26-5b98-45c7-98af-e8c6540ccc96",
   "metadata": {},
   "outputs": [],
   "source": [
    "str=[]\n",
    "for i in range(5):\n",
    "    str.append(input())\n",
    "\n",
    "print(str)\n",
    "\n",
    "str2=str[4:1:-1]\n",
    "str2.reverse()\n",
    "print(str2)\n",
    "\n"
   ]
  },
  {
   "cell_type": "code",
   "execution_count": 3,
   "id": "56d8db1a-2811-4e04-aedb-321ba49626df",
   "metadata": {},
   "outputs": [
    {
     "ename": "IndentationError",
     "evalue": "unexpected indent (2931483747.py, line 24)",
     "output_type": "error",
     "traceback": [
      "\u001b[0;36m  Cell \u001b[0;32mIn[3], line 24\u001b[0;36m\u001b[0m\n\u001b[0;31m    x = students.keys()\u001b[0m\n\u001b[0m    ^\u001b[0m\n\u001b[0;31mIndentationError\u001b[0m\u001b[0;31m:\u001b[0m unexpected indent\n"
     ]
    }
   ],
   "source": [
    "students={'Arham':'Blue','Lisa':'Yellow','Vinod':'Purple','Jenny':'Pink'}\n",
    "\n",
    "\n",
    "\n",
    "x=students.keys()\n",
    "print(x)\n",
    "\n",
    "\n",
    "\n",
    "\n",
    "y= len(students)\n",
    "\n",
    "students.pop('Jenny')\n",
    "\n",
    "students['Lisa'] = 'Green'\n",
    "print(y)\n",
    "\n",
    "print(students)\n",
    "\n",
    "students={'Arham':'Blue','Lisa':'Yellow','Vinod':'Purple','Jenny':'Pink'}\n",
    "\n",
    "\n",
    "\n",
    " x = students.keys()\n",
    " print(x)\n",
    "\n",
    " students.pop('Jenny')\n",
    "\n",
    "\n",
    "\n",
    "\n",
    " y= len(students)\n",
    " print(students)\n",
    " keys= list(students.keys())\n",
    " keys.sort\n",
    " print(d1)\n",
    "\n",
    "\n",
    "sorted_students = dict(sorted(students.items()))\n",
    "print(\"sorted students with fav colors:\", sorted_students)\n",
    "\n"
   ]
  },
  {
   "cell_type": "code",
   "execution_count": 5,
   "id": "9223c95c-7057-44b1-8975-5b92b5d3eced",
   "metadata": {},
   "outputs": [
    {
     "name": "stdout",
     "output_type": "stream",
     "text": [
      " after swaping  8 10\n"
     ]
    }
   ],
   "source": [
    "a = 10\n",
    "b = 8\n",
    "temp = a\n",
    "a = b\n",
    "b = temp\n",
    "print(\" after swaping \", a,b)"
   ]
  },
  {
   "cell_type": "code",
   "execution_count": 9,
   "id": "b3e1197a-dce9-4672-af00-dacd5a9a894d",
   "metadata": {},
   "outputs": [
    {
     "name": "stdout",
     "output_type": "stream",
     "text": [
      "list 1: [1, 2, 3, 4, 5]\n",
      "list 2: ['a', 'b', 'c', 'd', 'f']\n",
      "list 3: ['true', 'false', 'true', 'false']\n"
     ]
    }
   ],
   "source": [
    "list1 = [1, 2, 3, 4, 5]\n",
    "list2 =['a', 'b', 'c', 'd', 'f']\n",
    "list3 =['true', 'false', 'true', 'false']\n",
    "\n",
    "print(\"list 1:\", list1)\n",
    "print(\"list 2:\", list2)\n",
    "print(\"list 3:\", list3)"
   ]
  },
  {
   "cell_type": "code",
   "execution_count": 13,
   "id": "a12f4a49-3513-49ba-acf8-3b7091a566fa",
   "metadata": {},
   "outputs": [
    {
     "name": "stdout",
     "output_type": "stream",
     "text": [
      "union: {1, 2, 3, 4, 5, 6, 7, 8, 9, 10}\n",
      "Intersection: set()\n",
      "Difference (set1 - set2): {1, 2, 3, 4, 5}\n",
      "Difference (set2 - set1): {6, 7, 8, 9, 10}\n"
     ]
    }
   ],
   "source": [
    "\n",
    "set1 = {1, 2, 3, 4, 5}\n",
    "set2 = {6, 7, 8, 9, 10}\n",
    "\n",
    "union_set = set1.union(set2)\n",
    "print(\"union:\", union_set)\n",
    "\n",
    "intersection_set = set1.intersection(set2)\n",
    "print(\"Intersection:\", intersection_set)\n",
    "\n",
    "difference_set1 = set1.difference(set2)\n",
    "difference_set2 = set2.difference(set1)\n",
    "print(\"Difference (set1 - set2):\", difference_set1)\n",
    "print(\"Difference (set2 - set1):\", difference_set2)\n"
   ]
  },
  {
   "cell_type": "code",
   "execution_count": 15,
   "id": "ee022bb5-c3bf-4094-ae7b-8532918c9184",
   "metadata": {},
   "outputs": [
    {
     "name": "stdin",
     "output_type": "stream",
     "text": [
      "Enter a float number:  2\n"
     ]
    },
    {
     "name": "stdout",
     "output_type": "stream",
     "text": [
      "Converted Integer: 2\n"
     ]
    }
   ],
   "source": [
    "\n",
    "float_num = float(input(\"Enter a float number: \"))\n",
    "int_num = int(float_num)\n",
    "print(\"Converted Integer:\", int_num)"
   ]
  },
  {
   "cell_type": "code",
   "execution_count": null,
   "id": "e02a1f75-8de4-4699-99b4-a555cd308245",
   "metadata": {},
   "outputs": [],
   "source": []
  }
 ],
 "metadata": {
  "kernelspec": {
   "display_name": "Python [conda env:base] *",
   "language": "python",
   "name": "conda-base-py"
  },
  "language_info": {
   "codemirror_mode": {
    "name": "ipython",
    "version": 3
   },
   "file_extension": ".py",
   "mimetype": "text/x-python",
   "name": "python",
   "nbconvert_exporter": "python",
   "pygments_lexer": "ipython3",
   "version": "3.12.7"
  }
 },
 "nbformat": 4,
 "nbformat_minor": 5
}
