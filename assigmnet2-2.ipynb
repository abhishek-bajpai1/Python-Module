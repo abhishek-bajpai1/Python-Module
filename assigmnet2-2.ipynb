{
 "cells": [
  {
   "cell_type": "code",
   "execution_count": null,
   "id": "2322a97b-5294-42d5-adc9-2c7d88bb6e3e",
   "metadata": {},
   "outputs": [],
   "source": [
    "1. Write a Python program to find the area of a triangle."
   ]
  },
  {
   "cell_type": "code",
   "execution_count": 1,
   "id": "5cc57d7b-3de2-495e-af6b-061f7d8d198f",
   "metadata": {},
   "outputs": [
    {
     "name": "stdin",
     "output_type": "stream",
     "text": [
      "Enter the base of the triangle:  3\n",
      "Enter the height of the triangle:  4\n"
     ]
    },
    {
     "name": "stdout",
     "output_type": "stream",
     "text": [
      "Area of the triangle: 6.0\n"
     ]
    }
   ],
   "source": [
    "base = float(input(\"Enter the base of the triangle: \"))\n",
    "height = float(input(\"Enter the height of the triangle: \"))\n",
    "area = 0.5 * base * height\n",
    "print(\"Area of the triangle:\", area)\n"
   ]
  },
  {
   "cell_type": "code",
   "execution_count": null,
   "id": "cd71e1a7-5514-4141-ab9c-932a92f639a6",
   "metadata": {},
   "outputs": [],
   "source": [
    "2. Write a program to display calendar of any month using calendar module of python."
   ]
  },
  {
   "cell_type": "code",
   "execution_count": 43,
   "id": "0b79268e-1000-419d-9870-5ddcf4d6510b",
   "metadata": {},
   "outputs": [
    {
     "name": "stdin",
     "output_type": "stream",
     "text": [
      "Enter year 2003\n",
      "Enter month(1-12): 3\n"
     ]
    },
    {
     "name": "stdout",
     "output_type": "stream",
     "text": [
      "     March 2003\n",
      "Mo Tu We Th Fr Sa Su\n",
      "                1  2\n",
      " 3  4  5  6  7  8  9\n",
      "10 11 12 13 14 15 16\n",
      "17 18 19 20 21 22 23\n",
      "24 25 26 27 28 29 30\n",
      "31\n",
      "\n"
     ]
    }
   ],
   "source": [
    "import calendar\n",
    "year = int(input(\"Enter year\"))\n",
    "month = int(input(\"Enter month(1-12):\"))\n",
    "print(calendar.month(year, month))"
   ]
  },
  {
   "cell_type": "code",
   "execution_count": null,
   "id": "55054d5d-d41e-4719-8e84-641aef67bd30",
   "metadata": {},
   "outputs": [],
   "source": [
    "3. Write a Python Program to Check if a Number is Positive, Negative or Zero."
   ]
  },
  {
   "cell_type": "code",
   "execution_count": 13,
   "id": "20f69d0d-2dc1-47bb-a51c-4a0660829033",
   "metadata": {},
   "outputs": [
    {
     "name": "stdin",
     "output_type": "stream",
     "text": [
      "Enter a number:  0\n"
     ]
    },
    {
     "name": "stdout",
     "output_type": "stream",
     "text": [
      "The number is zero.\n"
     ]
    }
   ],
   "source": [
    "num = float(input(\"Enter a number: \"))\n",
    "if num > 0:\n",
    "    print(\"The number is positive.\")\n",
    "elif num < 0:\n",
    "    print(\"The number is negative.\")\n",
    "else:\n",
    "    print(\"The number is zero.\")"
   ]
  },
  {
   "cell_type": "code",
   "execution_count": null,
   "id": "57658971-eb3e-4129-a9ff-1a12a415b113",
   "metadata": {},
   "outputs": [],
   "source": [
    "4. Write a Python Program to Check if a Number is Odd or Even"
   ]
  },
  {
   "cell_type": "code",
   "execution_count": 15,
   "id": "9c2c7dde-821f-4cc1-a612-e3b95e420f13",
   "metadata": {},
   "outputs": [
    {
     "name": "stdin",
     "output_type": "stream",
     "text": [
      "Enter a number: 3\n"
     ]
    },
    {
     "name": "stdout",
     "output_type": "stream",
     "text": [
      "The number is odd.\n"
     ]
    }
   ],
   "source": [
    "num = int(input(\"Enter a number:\"))\n",
    "if num % 2 == 0:\n",
    "    print(\"The number is even.\")\n",
    "else:\n",
    "    print(\"The number is odd.\")\n",
    "    \n",
    "    "
   ]
  },
  {
   "cell_type": "code",
   "execution_count": null,
   "id": "d83e5f71-83b1-4b01-9e56-5df5fffff0d0",
   "metadata": {},
   "outputs": [],
   "source": [
    "5. Write a Python Program to Check Leap Year. The year should be entered by user."
   ]
  },
  {
   "cell_type": "code",
   "execution_count": 17,
   "id": "e83c6bfe-e40a-4bb8-bfcf-505af4c8dd01",
   "metadata": {},
   "outputs": [
    {
     "name": "stdin",
     "output_type": "stream",
     "text": [
      "Enter the year: 2001\n"
     ]
    },
    {
     "name": "stdout",
     "output_type": "stream",
     "text": [
      "The year is not year.\n"
     ]
    }
   ],
   "source": [
    "year = int(input(\"Enter the year:\"))\n",
    "if(year % 4 == 0 and year % 100 != 0)or (year % 400 == 0):\n",
    "    print(\"The year is a leap year\")\n",
    "else:\n",
    "    print(\"The year is not year.\")"
   ]
  },
  {
   "cell_type": "code",
   "execution_count": null,
   "id": "0e19d3ac-10e5-49a4-ae09-7acf4e881649",
   "metadata": {},
   "outputs": [],
   "source": [
    "6. Write a Python Program to Print all Prime Numbers in an Interval of 1-10"
   ]
  },
  {
   "cell_type": "code",
   "execution_count": 25,
   "id": "c452518b-623d-4148-bcea-70e72e41163e",
   "metadata": {},
   "outputs": [
    {
     "name": "stdout",
     "output_type": "stream",
     "text": [
      "Prime numbers between 1 and 10 are:\n",
      "2\n",
      "3\n",
      "5\n",
      "7\n"
     ]
    }
   ],
   "source": [
    "start = 1\n",
    "end = 10\n",
    "\n",
    "print(\"Prime numbers between\", start, \"and\", end, \"are:\")\n",
    "\n",
    "for num in range(start, end + 1):\n",
    "    if num > 1:\n",
    "        for i in range(2, num):\n",
    "            if num % i == 0:\n",
    "                break\n",
    "        else:\n",
    "            print(num)"
   ]
  },
  {
   "cell_type": "code",
   "execution_count": null,
   "id": "78170d44-c465-43c8-a8f4-2606ce081c8f",
   "metadata": {},
   "outputs": [],
   "source": [
    "7. Write a Python Program to Find the Factorial of a Number"
   ]
  },
  {
   "cell_type": "code",
   "execution_count": 29,
   "id": "ad2c8bb5-e4c7-44a4-ad78-34654f1510f4",
   "metadata": {},
   "outputs": [
    {
     "name": "stdin",
     "output_type": "stream",
     "text": [
      "enter a number: 2\n"
     ]
    },
    {
     "name": "stdout",
     "output_type": "stream",
     "text": [
      "Factorial of 2 is 2\n"
     ]
    }
   ],
   "source": [
    "def factorial(n):\n",
    "    if n == 0 or n == 1:\n",
    "        return 1\n",
    "    else:\n",
    "        return n * factorial(n - 1)\n",
    "num = int(input(\"enter a number:\"))\n",
    "print(\"Factorial of\", num, \"is\", factorial(num))"
   ]
  },
  {
   "cell_type": "code",
   "execution_count": null,
   "id": "b8eaa805-32c2-4d52-a4db-01da63a88cfa",
   "metadata": {},
   "outputs": [],
   "source": [
    "8. Write a Python Program to Make a Simple Calculator with 4 basic mathematical\n",
    "operations."
   ]
  },
  {
   "cell_type": "code",
   "execution_count": 37,
   "id": "24dc42f2-a8f7-4cb5-be40-089a076cf68e",
   "metadata": {},
   "outputs": [
    {
     "name": "stdout",
     "output_type": "stream",
     "text": [
      "Select operation:\n",
      "1. Add\n",
      "2. Subtract\n",
      "3. Multiply\n",
      "4. Divide\n"
     ]
    },
    {
     "name": "stdin",
     "output_type": "stream",
     "text": [
      "Enter choice (1/2/3/4):  1\n",
      "Enter first number:  2\n",
      "Enter second number:  3\n"
     ]
    },
    {
     "name": "stdout",
     "output_type": "stream",
     "text": [
      "Result: 5.0\n"
     ]
    }
   ],
   "source": [
    "def add(x, y):\n",
    "    return x + y\n",
    "\n",
    "def subtract(x, y):\n",
    "    return x - y\n",
    "\n",
    "def multiply(x, y):\n",
    "    return x * y\n",
    "\n",
    "def divide(x, y):\n",
    "    if y == 0:\n",
    "        return \"Error! Division by zero.\"\n",
    "    return x / y\n",
    "\n",
    "# User input\n",
    "print(\"Select operation:\")\n",
    "print(\"1. Add\")\n",
    "print(\"2. Subtract\")\n",
    "print(\"3. Multiply\")\n",
    "print(\"4. Divide\")\n",
    "\n",
    "choice = input(\"Enter choice (1/2/3/4): \")\n",
    "num1 = float(input(\"Enter first number: \"))\n",
    "num2 = float(input(\"Enter second number: \"))\n",
    "\n",
    "if choice == '1':\n",
    "    print(\"Result:\", add(num1, num2))\n",
    "elif choice == '2':\n",
    "    print(\"Result:\", subtract(num1, num2))\n",
    "elif choice == '3':\n",
    "    print(\"Result:\", multiply(num1, num2))\n",
    "elif choice == '4':\n",
    "    print(\"Result:\", divide(num1, num2))\n",
    "else:\n",
    "    print(\"Invalid input\")\n",
    "\n",
    "\n",
    "   \n",
    "    \n"
   ]
  },
  {
   "cell_type": "code",
   "execution_count": null,
   "id": "e551c525-5924-47f1-87ee-a3d23526d15a",
   "metadata": {},
   "outputs": [],
   "source": [
    "9. Write a Python Program to find sum of array of 5 elements."
   ]
  },
  {
   "cell_type": "code",
   "execution_count": 39,
   "id": "2181e4af-5151-4658-aaed-10494fc7819f",
   "metadata": {},
   "outputs": [
    {
     "name": "stdin",
     "output_type": "stream",
     "text": [
      "enter element 1: 3\n",
      "enter element 2: 2\n",
      "enter element 3: 7\n",
      "enter element 4: 2\n",
      "enter element 5: 1\n"
     ]
    },
    {
     "name": "stdout",
     "output_type": "stream",
     "text": [
      "sum of the array elements: 15.0\n"
     ]
    }
   ],
   "source": [
    "arr = []\n",
    "for i in range(5):\n",
    "    num = float(input(f\"enter element {i + 1}:\"))\n",
    "    arr.append(num)\n",
    "\n",
    "total = sum(arr)\n",
    "print(\"sum of the array elements:\", total)"
   ]
  },
  {
   "cell_type": "code",
   "execution_count": null,
   "id": "2b77643e-9cdf-49d9-bf4e-256b0e6fd49b",
   "metadata": {},
   "outputs": [],
   "source": [
    "10. Write a Python Program to find largest and smallest element in an array."
   ]
  },
  {
   "cell_type": "code",
   "execution_count": 47,
   "id": "a8ecd09e-fa18-48f6-841c-7460e0c5d5e0",
   "metadata": {},
   "outputs": [
    {
     "name": "stdout",
     "output_type": "stream",
     "text": [
      "4\n",
      "89\n"
     ]
    }
   ],
   "source": [
    "arr = [10, 89, 9, 56, 4, 80, 8]\n",
    "mini = arr[0]\n",
    "maxi = arr[0]\n",
    "\n",
    "for i in range(len(arr)):\n",
    "  if arr[i] < mini: \n",
    "    mini = arr[i] \n",
    "  \n",
    "  if arr[i] > maxi: \n",
    "    maxi = arr[i]\n",
    "\n",
    "print (mini)\n",
    "print (maxi)\n",
    "\n"
   ]
  },
  {
   "cell_type": "code",
   "execution_count": null,
   "id": "82b6b8e7-fa7f-46bb-9e67-036d74bfba17",
   "metadata": {},
   "outputs": [],
   "source": [
    "11. Write a Python program to Multiply all numbers in the list 7 elements"
   ]
  },
  {
   "cell_type": "code",
   "execution_count": 49,
   "id": "d7087142-6c1e-4cda-aaf1-6e6098d68d96",
   "metadata": {},
   "outputs": [
    {
     "name": "stdout",
     "output_type": "stream",
     "text": [
      "448\n"
     ]
    }
   ],
   "source": [
    "a = [2, 7, 8, 4]\n",
    "res = 1\n",
    "\n",
    "for val in a:\n",
    "    res = res * val\n",
    "print(res)    \n",
    "    \n",
    "#method 1"
   ]
  },
  {
   "cell_type": "code",
   "execution_count": 53,
   "id": "23726026-3197-4305-a32c-0889338ab33c",
   "metadata": {},
   "outputs": [
    {
     "name": "stdin",
     "output_type": "stream",
     "text": [
      "Enter element 1:  3\n",
      "Enter element 2:  2\n",
      "Enter element 3:  2\n",
      "Enter element 4:  1\n",
      "Enter element 5:  4\n",
      "Enter element 6:  4\n",
      "Enter element 7:  5\n"
     ]
    },
    {
     "name": "stdout",
     "output_type": "stream",
     "text": [
      "Product of all elements in the list: 960.0\n"
     ]
    }
   ],
   "source": [
    "##method 2\n",
    "arr = []\n",
    "for i in range(7):\n",
    "    num = float(input(f\"Enter element {i+1}: \"))\n",
    "    arr.append(num)\n",
    "result = 1\n",
    "for num in arr:\n",
    "    result *= num\n",
    "print(\"Product of all elements in the list:\", result)\n",
    "\n"
   ]
  },
  {
   "cell_type": "code",
   "execution_count": null,
   "id": "ce0cfc5f-2eec-46da-bef1-e28bcbca13c6",
   "metadata": {},
   "outputs": [],
   "source": [
    "12. Write a Python Program to Display the multiplication Table of any number entered by\n",
    "user."
   ]
  },
  {
   "cell_type": "code",
   "execution_count": 57,
   "id": "047e9d92-f7bc-4e38-a0f9-49ef83494c77",
   "metadata": {},
   "outputs": [
    {
     "name": "stdin",
     "output_type": "stream",
     "text": [
      "Enter a number:  2\n"
     ]
    },
    {
     "name": "stdout",
     "output_type": "stream",
     "text": [
      "Multiplication Table of 2:\n",
      "2 x 1 = 2\n",
      "2 x 2 = 4\n",
      "2 x 3 = 6\n",
      "2 x 4 = 8\n",
      "2 x 5 = 10\n",
      "2 x 6 = 12\n",
      "2 x 7 = 14\n",
      "2 x 8 = 16\n",
      "2 x 9 = 18\n",
      "2 x 10 = 20\n"
     ]
    }
   ],
   "source": [
    "num = int(input(\"Enter a number: \"))\n",
    "print(f\"Multiplication Table of {num}:\")\n",
    "for i in range(1, 11):\n",
    "    print(f\"{num} x {i} = {num * i}\")\n"
   ]
  },
  {
   "cell_type": "code",
   "execution_count": null,
   "id": "642718a9-4e7e-4aac-aed7-158dbdd9834c",
   "metadata": {},
   "outputs": [],
   "source": []
  }
 ],
 "metadata": {
  "kernelspec": {
   "display_name": "Python [conda env:base] *",
   "language": "python",
   "name": "conda-base-py"
  },
  "language_info": {
   "codemirror_mode": {
    "name": "ipython",
    "version": 3
   },
   "file_extension": ".py",
   "mimetype": "text/x-python",
   "name": "python",
   "nbconvert_exporter": "python",
   "pygments_lexer": "ipython3",
   "version": "3.12.7"
  }
 },
 "nbformat": 4,
 "nbformat_minor": 5
}
